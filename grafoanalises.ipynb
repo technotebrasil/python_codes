import pandas as pd

df = pd.DataFrame({'ID':[1,2,3,4,5,6], 
                   'Nome':['Fabiano', 'Jesse', 'James', 'Jean', 'James', 'Tesouro'], 
                   'Sobrenome': ['Adelino', 'Porchat', 'Daler', 'Gleiser', 'Ribeiro', 'Da Mamãe'],
                   'Telefone': ['11 12345 6789', '11 12345 7657', '11 12345 6789', '11 99999 9999', '11 12345 7845', '11 12345 7845'],
                   'Email': ['fabiano.adelino@intelekts.com.br', 'jesse@clicouvendas.com.br', 'james@intelekts.com.br', pd.np.nan, 'james@intelekts.com.br', pd.np.nan]})

column_edge = 'Telefone'
column_ID = 'ID'

data_to_merge = df[[column_ID, column_edge]].dropna(subset=[column_edge]).drop_duplicates() # seleciona colunas, tira os NaN

# Para criar conexões entre pessoas que têm o mesmo número,
# junte dados na coluna "ID".
data_to_merge = data_to_merge.merge(
    data_to_merge[[column_ID, column_edge]].rename(columns={column_ID:column_ID+"_2"}), 
    on=column_edge
)

data_to_merge

# Juntando os dados a si mesmos, as pessoas terão uma conexão consigo mesmas.
# Remova as conexões, para manter apenas as pessoas conectadas que são diferentes.
d = data_to_merge[~(data_to_merge[column_ID]==data_to_merge[column_ID+"_2"])] \
    .dropna()[[column_ID, column_ID+"_2", column_edge]]
    
# Para evitar a contagem de duas vezes as mesmas conexões (pessoa 1 conectada a pessoa 2 e pessoa 2 conectada a pessoa 1)
# forçamos o primeiro ID a ser "inferior" a ID_2
d.drop(d.loc[d[column_ID+"_2"]<d[column_ID]].index.tolist(), inplace=True)

d

import networkx as nx

G = nx.from_pandas_edgelist(df=d, source=column_ID, target=column_ID+'_2', edge_attr=column_edge)

G.add_nodes_from(nodes_for_adding=df.ID.tolist())

G.nodes()

column_edge = 'Email'
column_ID = 'ID'

data_to_merge = df[[column_ID, column_edge]].dropna(subset=[column_edge]).drop_duplicates()

data_to_merge = data_to_merge.merge(
    data_to_merge[[column_ID, column_edge]].rename(columns={column_ID:column_ID+"_2"}), 
    on=column_edge
)

d = data_to_merge[~(data_to_merge[column_ID]==data_to_merge[column_ID+"_2"])] \
    .dropna()[[column_ID, column_ID+"_2", column_edge]]

d.drop(d.loc[d[column_ID+"_2"]<d[column_ID]].index.tolist(), inplace=True)

d

# Cria as conexões no grafo
links_attributes = {tuple(row[[column_ID, column_ID+"_2"]]): {column_edge: row[column_edge]} for i,row in d.iterrows()}

G.add_edges_from(links_attributes) # cria a conexão sem atributo. Checa com G.get_edge_data(3,5)
nx.set_edge_attributes(G=G, values=links_attributes) # adiciona o atributo. Checa com G.get_edge_data(5,3)

%matplotlib inline

nx.draw(G)

{row[column_ID]:row['Nome'] +' '+ row['Sobrenome'] for i,row in df.iterrows()}

nx.set_node_attributes(G, {row[column_ID]:{'Nome': row['Nome'] +' '+ row['Sobrenome']} for i,row in df.iterrows()})

EDGE_SIZE = {
    'Telefone': 2,
    'Email': 1,
}

EDGE_COLOR = {
    'Telefone': 'purple',
    'Email': 'red',
}

def clean_edge(edge):
    s.edge[edge[0], edge[1]].values()

def c_(list_edges): return [a for a in list_edges if a in list(EDGE_COLOR.keys())]
    
# For nx.Graph()
def edge_sizes(s): return [EDGE_SIZE[c_(list(s.edges[edge[0], edge[1]].keys()))[-1]] for edge in s.edges()] # /!\ multiple links => one size
def edge_colors(s): return [EDGE_COLOR[c_(list(s.edges[edge[0], edge[1]].keys()))[-1]] for edge in s.edges()] # /!\ multiple links => one color

# For nx.MultiDiGraph()
# def edge_sizes(s): return [EDGE_SIZE[s.edge[edge[0]][edge[1]][0]['label']] for edge in s.edges()] # /!\ multiple links => one size
# def edge_colors(s): return [EDGE_COLOR[s.edge[edge[0]][edge[1]][0]['label']] for edge in s.edges()] # /!\ multiple links => one color

def draw(s):
    pos = nx.spring_layout(s, scale=0.5)
    node_labels = dict((n,d['Nome']) for n,d in s.nodes(data=True))
#     labels = {**node_labels, **edge_labels}
    nx.draw(s, pos=pos, width=edge_sizes(s), edge_color=edge_colors(s), alpha=0.8, arrows=False, node_color='lightgrey', node_size=400,
            labels=node_labels, 
            font_color='black', font_size=8, font_weight='bold',
           )
    edge_labels = dict(((u,v),list(d.values())[0]) for u,v,d in G.edges(data=True))
    nx.draw_networkx_edge_labels(G, pos, edge_labels = edge_labels, font_size=8)
    
    draw(nx.ego_graph(G=G, n=1, radius=3))
    
#Detecção automatizada de padrões estranhos

degrees = list(nx.degree(G))

pd.DataFrame([list(d) for d in degrees], columns=['ID', 'grau']).sort_values('grau', ascending=False).head(5)

draw(nx.ego_graph(G=G, n=3, radius=2))

